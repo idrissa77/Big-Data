{
 "cells": [
  {
   "cell_type": "markdown",
   "id": "bb7e53c6-b538-44d1-8721-267c8e7c8b3f",
   "metadata": {},
   "source": [
    "# Mini Projet : APACHE SPARK"
   ]
  },
  {
   "cell_type": "markdown",
   "id": "7ee9fa63-dac9-4c69-827d-45d6add41eb4",
   "metadata": {},
   "source": [
    "### 1 - Creation de session"
   ]
  },
  {
   "cell_type": "code",
   "execution_count": 69,
   "id": "7b61eb55-a0e4-4cff-9af5-4250473c2cff",
   "metadata": {},
   "outputs": [],
   "source": [
    "import findspark\n",
    "findspark.init()\n",
    "import pyspark\n",
    "from pyspark.sql import SparkSession"
   ]
  },
  {
   "cell_type": "code",
   "execution_count": 70,
   "id": "47537552-1ee9-4596-a1a0-699690ea6c5d",
   "metadata": {},
   "outputs": [],
   "source": [
    "#https://spark.apache.org/docs/latest/sql-getting-started.html\n",
    "spark = SparkSession \\\n",
    "        .builder \\\n",
    "        .appName(\"firstSpark\") \\\n",
    "        .getOrCreate()"
   ]
  },
  {
   "cell_type": "markdown",
   "id": "766e5514-6fcb-4e17-84ea-c7503a3bd1c3",
   "metadata": {
    "tags": []
   },
   "source": [
    "### 2 - Ingestion du CSV Donors"
   ]
  },
  {
   "cell_type": "code",
   "execution_count": 71,
   "id": "81f973f2-146d-44ee-a203-403b72a79a4d",
   "metadata": {},
   "outputs": [],
   "source": [
    "# df = spark.read.format('csv').options(header='true').load(\".\")\n",
    "def load_dataframe(filename):\n",
    "    df = spark.read.format('csv').options(header='true').load(filename)\n",
    "    return df"
   ]
  },
  {
   "cell_type": "code",
   "execution_count": 72,
   "id": "bad9617e",
   "metadata": {},
   "outputs": [],
   "source": [
    "#creating a dataframe\n",
    "df_donors  = load_dataframe('Donors.csv')"
   ]
  },
  {
   "cell_type": "markdown",
   "id": "b24c5e09-29b5-4e29-a04e-94a583c821fa",
   "metadata": {},
   "source": [
    "### 3 - Affichage\n",
    "Afficher les 20 premières lignes de dataset Donors (Utilisez la fonction show())"
   ]
  },
  {
   "cell_type": "code",
   "execution_count": 73,
   "id": "81d85e39-b38e-4fc9-b923-22605c7cc2da",
   "metadata": {},
   "outputs": [
    {
     "name": "stdout",
     "output_type": "stream",
     "text": [
      "+--------------------+------------+--------------+----------------+---------+\n",
      "|            Donor_ID|  Donor_City|   Donor_State|Donor_Is_Teacher|Donor_Zip|\n",
      "+--------------------+------------+--------------+----------------+---------+\n",
      "|00000ce845c00cbf0...|    Evanston|      Illinois|              No|      602|\n",
      "|00002783bc5d10851...|  Appomattox|         other|              No|      245|\n",
      "|00002d44003ed46b0...|      Winton|    California|             Yes|      953|\n",
      "|00002eb25d60a09c3...|Indianapolis|       Indiana|              No|      462|\n",
      "|0000300773fe015f8...|    Paterson|    New Jersey|              No|      075|\n",
      "|00004c31ce07c2214...|        null|         other|              No|     null|\n",
      "|00004e32a448b4832...|    Stamford|   Connecticut|              No|      069|\n",
      "|00004fa20a986e60a...|   Green Bay|     Wisconsin|              No|      543|\n",
      "|00005454366b6b914...|      Argyle|      New York|              No|      128|\n",
      "|0000584b8cdaeaa6b...|  Valparaiso|       Indiana|              No|      463|\n",
      "|00005f52c98eeaf92...|   Villanova|  Pennsylvania|              No|      190|\n",
      "|00006084c3d92d904...|       Brick|    New Jersey|             Yes|      087|\n",
      "|00006c6b8c3225a54...|  Wilmington|      Delaware|              No|      198|\n",
      "|0000812bd5629117f...|    Pasadena|         Texas|              No|      775|\n",
      "|0000889adf4cc958a...|Mohegan Lake|      New York|              No|      105|\n",
      "|00008eec5aab22286...|    Old Fort|North Carolina|              No|      287|\n",
      "|0000954e7c49ebfbc...|      Quincy|      Illinois|              No|      623|\n",
      "|0000a1288b8ccdeaa...|        null|         other|              No|     null|\n",
      "|0000a2175753bc165...|Grand Rapids|      Michigan|              No|      495|\n",
      "|0000a3fd8b8a3d1a9...|   Lancaster|  Pennsylvania|              No|      176|\n",
      "+--------------------+------------+--------------+----------------+---------+\n",
      "only showing top 20 rows\n",
      "\n"
     ]
    }
   ],
   "source": [
    "df_donors.show()"
   ]
  },
  {
   "cell_type": "markdown",
   "id": "18371af8",
   "metadata": {},
   "source": [
    "Conversion en dataframe pandas (utilisez la fonction \"toPandas()\")"
   ]
  },
  {
   "cell_type": "code",
   "execution_count": 74,
   "id": "48600a4b",
   "metadata": {},
   "outputs": [
    {
     "data": {
      "text/html": [
       "<div>\n",
       "<style scoped>\n",
       "    .dataframe tbody tr th:only-of-type {\n",
       "        vertical-align: middle;\n",
       "    }\n",
       "\n",
       "    .dataframe tbody tr th {\n",
       "        vertical-align: top;\n",
       "    }\n",
       "\n",
       "    .dataframe thead th {\n",
       "        text-align: right;\n",
       "    }\n",
       "</style>\n",
       "<table border=\"1\" class=\"dataframe\">\n",
       "  <thead>\n",
       "    <tr style=\"text-align: right;\">\n",
       "      <th></th>\n",
       "      <th>Donor_ID</th>\n",
       "      <th>Donor_City</th>\n",
       "      <th>Donor_State</th>\n",
       "      <th>Donor_Is_Teacher</th>\n",
       "      <th>Donor_Zip</th>\n",
       "    </tr>\n",
       "  </thead>\n",
       "  <tbody>\n",
       "    <tr>\n",
       "      <th>0</th>\n",
       "      <td>00000ce845c00cbf0686c992fc369df4</td>\n",
       "      <td>Evanston</td>\n",
       "      <td>Illinois</td>\n",
       "      <td>No</td>\n",
       "      <td>602</td>\n",
       "    </tr>\n",
       "    <tr>\n",
       "      <th>1</th>\n",
       "      <td>00002783bc5d108510f3f9666c8b1edd</td>\n",
       "      <td>Appomattox</td>\n",
       "      <td>other</td>\n",
       "      <td>No</td>\n",
       "      <td>245</td>\n",
       "    </tr>\n",
       "    <tr>\n",
       "      <th>2</th>\n",
       "      <td>00002d44003ed46b066607c5455a999a</td>\n",
       "      <td>Winton</td>\n",
       "      <td>California</td>\n",
       "      <td>Yes</td>\n",
       "      <td>953</td>\n",
       "    </tr>\n",
       "    <tr>\n",
       "      <th>3</th>\n",
       "      <td>00002eb25d60a09c318efbd0797bffb5</td>\n",
       "      <td>Indianapolis</td>\n",
       "      <td>Indiana</td>\n",
       "      <td>No</td>\n",
       "      <td>462</td>\n",
       "    </tr>\n",
       "    <tr>\n",
       "      <th>4</th>\n",
       "      <td>0000300773fe015f870914b42528541b</td>\n",
       "      <td>Paterson</td>\n",
       "      <td>New Jersey</td>\n",
       "      <td>No</td>\n",
       "      <td>075</td>\n",
       "    </tr>\n",
       "    <tr>\n",
       "      <th>5</th>\n",
       "      <td>00004c31ce07c22148ee37acd0f814b9</td>\n",
       "      <td>None</td>\n",
       "      <td>other</td>\n",
       "      <td>No</td>\n",
       "      <td>None</td>\n",
       "    </tr>\n",
       "    <tr>\n",
       "      <th>6</th>\n",
       "      <td>00004e32a448b4832e1b993500bf0731</td>\n",
       "      <td>Stamford</td>\n",
       "      <td>Connecticut</td>\n",
       "      <td>No</td>\n",
       "      <td>069</td>\n",
       "    </tr>\n",
       "    <tr>\n",
       "      <th>7</th>\n",
       "      <td>00004fa20a986e60a40262ba53d7edf1</td>\n",
       "      <td>Green Bay</td>\n",
       "      <td>Wisconsin</td>\n",
       "      <td>No</td>\n",
       "      <td>543</td>\n",
       "    </tr>\n",
       "    <tr>\n",
       "      <th>8</th>\n",
       "      <td>00005454366b6b914f9a8290f18f4aed</td>\n",
       "      <td>Argyle</td>\n",
       "      <td>New York</td>\n",
       "      <td>No</td>\n",
       "      <td>128</td>\n",
       "    </tr>\n",
       "    <tr>\n",
       "      <th>9</th>\n",
       "      <td>0000584b8cdaeaa6b3de82be509db839</td>\n",
       "      <td>Valparaiso</td>\n",
       "      <td>Indiana</td>\n",
       "      <td>No</td>\n",
       "      <td>463</td>\n",
       "    </tr>\n",
       "    <tr>\n",
       "      <th>10</th>\n",
       "      <td>00005f52c98eeaf92b2414a352b023a4</td>\n",
       "      <td>Villanova</td>\n",
       "      <td>Pennsylvania</td>\n",
       "      <td>No</td>\n",
       "      <td>190</td>\n",
       "    </tr>\n",
       "    <tr>\n",
       "      <th>11</th>\n",
       "      <td>00006084c3d92d904a22e0a70f5c119a</td>\n",
       "      <td>Brick</td>\n",
       "      <td>New Jersey</td>\n",
       "      <td>Yes</td>\n",
       "      <td>087</td>\n",
       "    </tr>\n",
       "    <tr>\n",
       "      <th>12</th>\n",
       "      <td>00006c6b8c3225a54438f878d59e650a</td>\n",
       "      <td>Wilmington</td>\n",
       "      <td>Delaware</td>\n",
       "      <td>No</td>\n",
       "      <td>198</td>\n",
       "    </tr>\n",
       "    <tr>\n",
       "      <th>13</th>\n",
       "      <td>0000812bd5629117f8909f73acbe8b7d</td>\n",
       "      <td>Pasadena</td>\n",
       "      <td>Texas</td>\n",
       "      <td>No</td>\n",
       "      <td>775</td>\n",
       "    </tr>\n",
       "    <tr>\n",
       "      <th>14</th>\n",
       "      <td>0000889adf4cc958a35daee1f2529b48</td>\n",
       "      <td>Mohegan Lake</td>\n",
       "      <td>New York</td>\n",
       "      <td>No</td>\n",
       "      <td>105</td>\n",
       "    </tr>\n",
       "    <tr>\n",
       "      <th>15</th>\n",
       "      <td>00008eec5aab2228652e22457881f2d0</td>\n",
       "      <td>Old Fort</td>\n",
       "      <td>North Carolina</td>\n",
       "      <td>No</td>\n",
       "      <td>287</td>\n",
       "    </tr>\n",
       "    <tr>\n",
       "      <th>16</th>\n",
       "      <td>0000954e7c49ebfbcd91ed9052070bee</td>\n",
       "      <td>Quincy</td>\n",
       "      <td>Illinois</td>\n",
       "      <td>No</td>\n",
       "      <td>623</td>\n",
       "    </tr>\n",
       "    <tr>\n",
       "      <th>17</th>\n",
       "      <td>0000a1288b8ccdeaaf716a2480d7b06a</td>\n",
       "      <td>None</td>\n",
       "      <td>other</td>\n",
       "      <td>No</td>\n",
       "      <td>None</td>\n",
       "    </tr>\n",
       "    <tr>\n",
       "      <th>18</th>\n",
       "      <td>0000a2175753bc165e53c408589a3bd6</td>\n",
       "      <td>Grand Rapids</td>\n",
       "      <td>Michigan</td>\n",
       "      <td>No</td>\n",
       "      <td>495</td>\n",
       "    </tr>\n",
       "    <tr>\n",
       "      <th>19</th>\n",
       "      <td>0000a3fd8b8a3d1a90fbb1e0cd44c62b</td>\n",
       "      <td>Lancaster</td>\n",
       "      <td>Pennsylvania</td>\n",
       "      <td>No</td>\n",
       "      <td>176</td>\n",
       "    </tr>\n",
       "  </tbody>\n",
       "</table>\n",
       "</div>"
      ],
      "text/plain": [
       "                            Donor_ID    Donor_City     Donor_State  \\\n",
       "0   00000ce845c00cbf0686c992fc369df4      Evanston        Illinois   \n",
       "1   00002783bc5d108510f3f9666c8b1edd    Appomattox           other   \n",
       "2   00002d44003ed46b066607c5455a999a        Winton      California   \n",
       "3   00002eb25d60a09c318efbd0797bffb5  Indianapolis         Indiana   \n",
       "4   0000300773fe015f870914b42528541b      Paterson      New Jersey   \n",
       "5   00004c31ce07c22148ee37acd0f814b9          None           other   \n",
       "6   00004e32a448b4832e1b993500bf0731      Stamford     Connecticut   \n",
       "7   00004fa20a986e60a40262ba53d7edf1     Green Bay       Wisconsin   \n",
       "8   00005454366b6b914f9a8290f18f4aed        Argyle        New York   \n",
       "9   0000584b8cdaeaa6b3de82be509db839    Valparaiso         Indiana   \n",
       "10  00005f52c98eeaf92b2414a352b023a4     Villanova    Pennsylvania   \n",
       "11  00006084c3d92d904a22e0a70f5c119a         Brick      New Jersey   \n",
       "12  00006c6b8c3225a54438f878d59e650a    Wilmington        Delaware   \n",
       "13  0000812bd5629117f8909f73acbe8b7d      Pasadena           Texas   \n",
       "14  0000889adf4cc958a35daee1f2529b48  Mohegan Lake        New York   \n",
       "15  00008eec5aab2228652e22457881f2d0      Old Fort  North Carolina   \n",
       "16  0000954e7c49ebfbcd91ed9052070bee        Quincy        Illinois   \n",
       "17  0000a1288b8ccdeaaf716a2480d7b06a          None           other   \n",
       "18  0000a2175753bc165e53c408589a3bd6  Grand Rapids        Michigan   \n",
       "19  0000a3fd8b8a3d1a90fbb1e0cd44c62b     Lancaster    Pennsylvania   \n",
       "\n",
       "   Donor_Is_Teacher Donor_Zip  \n",
       "0                No       602  \n",
       "1                No       245  \n",
       "2               Yes       953  \n",
       "3                No       462  \n",
       "4                No       075  \n",
       "5                No      None  \n",
       "6                No       069  \n",
       "7                No       543  \n",
       "8                No       128  \n",
       "9                No       463  \n",
       "10               No       190  \n",
       "11              Yes       087  \n",
       "12               No       198  \n",
       "13               No       775  \n",
       "14               No       105  \n",
       "15               No       287  \n",
       "16               No       623  \n",
       "17               No      None  \n",
       "18               No       495  \n",
       "19               No       176  "
      ]
     },
     "execution_count": 74,
     "metadata": {},
     "output_type": "execute_result"
    }
   ],
   "source": [
    "df_donors.limit(20).toPandas()"
   ]
  },
  {
   "cell_type": "markdown",
   "id": "a7643ee7",
   "metadata": {},
   "source": [
    "Trouver le nombre nul dans chaque colonne"
   ]
  },
  {
   "cell_type": "code",
   "execution_count": 76,
   "id": "ae8fb6fd",
   "metadata": {},
   "outputs": [
    {
     "name": "stdout",
     "output_type": "stream",
     "text": [
      "+--------+----------+-----------+----------------+---------+\n",
      "|Donor_ID|Donor_City|Donor_State|Donor_Is_Teacher|Donor_Zip|\n",
      "+--------+----------+-----------+----------------+---------+\n",
      "|       0|    105086|          0|               0|    88694|\n",
      "+--------+----------+-----------+----------------+---------+\n",
      "\n"
     ]
    }
   ],
   "source": [
    "from pyspark.sql.types import *\n",
    "from pyspark.sql.functions import *\n",
    "\n",
    "df_donors.select([count(when(isnan(c) | col(c).isNull(), c)).alias(c) for c in df_donors.columns]).show()\n"
   ]
  },
  {
   "cell_type": "markdown",
   "id": "c5195e9b",
   "metadata": {},
   "source": [
    "Imprimer le schéma de dataset (pour imprimer le schéma, on utilise la fonction \"printSchema\")"
   ]
  },
  {
   "cell_type": "code",
   "execution_count": 77,
   "id": "27c938fe",
   "metadata": {},
   "outputs": [
    {
     "name": "stdout",
     "output_type": "stream",
     "text": [
      "root\n",
      " |-- Donor_ID: string (nullable = true)\n",
      " |-- Donor_City: string (nullable = true)\n",
      " |-- Donor_State: string (nullable = true)\n",
      " |-- Donor_Is_Teacher: string (nullable = true)\n",
      " |-- Donor_Zip: string (nullable = true)\n",
      "\n"
     ]
    }
   ],
   "source": [
    "df_donors.printSchema()"
   ]
  },
  {
   "cell_type": "markdown",
   "id": "ca598ae3-7513-4094-9ccc-c5a8de261e4c",
   "metadata": {
    "tags": []
   },
   "source": [
    "### 4 - Filtrage"
   ]
  },
  {
   "cell_type": "markdown",
   "id": "65c2032e-0d50-405d-84bb-8f00630d6702",
   "metadata": {},
   "source": [
    "#### Laissez que les enregistrement dont Donor City commence par A\n",
    "\n",
    "Vous pouvez utiliser la fonction \"filter\" \n",
    " \n",
    "Exemple :  \"My_data.filter(My_data.name_colonne.like(\"A%\"))\"\n",
    "\n",
    "Like(\"A%\") : le caractère \"%\" est un caractère joker qui remplace tous les autres caractères. Ainsi, ce modèle permet de rechercher toutes les chaines de caractère qui commence par un \"A\"."
   ]
  },
  {
   "cell_type": "code",
   "execution_count": 78,
   "id": "81ddf953",
   "metadata": {},
   "outputs": [
    {
     "data": {
      "text/plain": [
       "DataFrame[Donor_ID: string, Donor_City: string, Donor_State: string, Donor_Is_Teacher: string, Donor_Zip: string]"
      ]
     },
     "execution_count": 78,
     "metadata": {},
     "output_type": "execute_result"
    }
   ],
   "source": [
    "df_donors.filter(df_donors.Donor_City.like(\"A%\"))"
   ]
  },
  {
   "cell_type": "markdown",
   "id": "7ae4e319-378f-402d-8b29-f4279773a47e",
   "metadata": {
    "tags": []
   },
   "source": [
    "#### Affichez les résultats"
   ]
  },
  {
   "cell_type": "code",
   "execution_count": 79,
   "id": "3fc87234-fa4e-48ed-98b0-b9a2f0b80aa2",
   "metadata": {},
   "outputs": [
    {
     "name": "stdout",
     "output_type": "stream",
     "text": [
      "+--------------------+-------------+-------------+----------------+---------+\n",
      "|            Donor_ID|   Donor_City|  Donor_State|Donor_Is_Teacher|Donor_Zip|\n",
      "+--------------------+-------------+-------------+----------------+---------+\n",
      "|00002783bc5d10851...|   Appomattox|        other|              No|      245|\n",
      "|00005454366b6b914...|       Argyle|     New York|              No|      128|\n",
      "|0001ef9f64a7e1038...|         Ames|         Iowa|              No|      500|\n",
      "|00024e86676fc2c3b...|    Ann Arbor|     Michigan|              No|      481|\n",
      "|0002a45d0b45a78e9...|    Ann Arbor|     Michigan|              No|      481|\n",
      "|0002cb56c84b1cba7...|         Avon|  Connecticut|              No|      060|\n",
      "|00050297e37eb7632...|       Austin|        Texas|              No|      787|\n",
      "|0005327bfe18229b9...|        Acton|   California|              No|      935|\n",
      "|00054f4b278af0c8d...|American Fork|         Utah|              No|      840|\n",
      "|00055ed4f4745e71d...|  Albuquerque|   New Mexico|              No|      871|\n",
      "|000581cf61255745a...|       Ankeny|         Iowa|              No|      500|\n",
      "|000583fdc4983283e...|       Agawam|Massachusetts|              No|      010|\n",
      "|00072a3616151a38a...|      Atlanta|        Texas|              No|      303|\n",
      "|00086e4e19e80f3f1...|       Albany|     New York|              No|      122|\n",
      "|0008ebb089883290a...|         Avon|      Indiana|              No|      461|\n",
      "|0008f2f55a3af2432...|   Alexandria|     Virginia|             Yes|      223|\n",
      "|0008ff59ba832f21a...|   Atascadero|   California|              No|      934|\n",
      "|000b625c3ba612734...|          Ava|     Illinois|              No|      629|\n",
      "|000bb57e7995b68d0...|      Anaheim|   California|              No|      928|\n",
      "|000bba7748e9b7011...|      Allegan|     Michigan|              No|      490|\n",
      "+--------------------+-------------+-------------+----------------+---------+\n",
      "only showing top 20 rows\n",
      "\n"
     ]
    }
   ],
   "source": [
    "df_donors.filter(df_donors.Donor_City.like(\"A%\")).show()"
   ]
  },
  {
   "cell_type": "markdown",
   "id": "049d037a-231c-40f2-87af-e71f2c548e1b",
   "metadata": {},
   "source": [
    "## 5 - Transformation"
   ]
  },
  {
   "cell_type": "markdown",
   "id": "a75cd3e9-4596-4cc0-8946-361069da1d5e",
   "metadata": {},
   "source": [
    "#### Construisez une nouvelle colonne `Address` en faisant une concaténation `Donor_City, Donor_State, Donor_Zip`"
   ]
  },
  {
   "cell_type": "code",
   "execution_count": 80,
   "id": "6923595e-0b8f-46f7-a9f0-de1cebb1ab1c",
   "metadata": {},
   "outputs": [],
   "source": [
    "from pyspark.sql.functions import concat_ws"
   ]
  },
  {
   "cell_type": "markdown",
   "id": "b3f28eb8",
   "metadata": {},
   "source": [
    "Vous pouvez utiliser la fonction \"withColumn\" et \"concat_ws\" "
   ]
  },
  {
   "cell_type": "code",
   "execution_count": 81,
   "id": "1cfa5cfc-9f05-4743-80aa-e7d9e264125d",
   "metadata": {},
   "outputs": [
    {
     "data": {
      "text/plain": [
       "DataFrame[Donor_ID: string, Donor_City: string, Donor_State: string, Donor_Is_Teacher: string, Donor_Zip: string, Address: string]"
      ]
     },
     "execution_count": 81,
     "metadata": {},
     "output_type": "execute_result"
    }
   ],
   "source": [
    " df_donors.withColumn(\"Address\",concat_ws(\",\",col(\"Donor_City\"),col(\"Donor_State\"),col(\"Donor_Zip\")))\n",
    " "
   ]
  },
  {
   "cell_type": "markdown",
   "id": "d51bc097-4a95-4c44-921d-2663cc201812",
   "metadata": {},
   "source": [
    "Afficher les résultats"
   ]
  },
  {
   "cell_type": "code",
   "execution_count": 82,
   "id": "d0b72947-e1b6-4d88-b278-04d57b603915",
   "metadata": {},
   "outputs": [
    {
     "name": "stdout",
     "output_type": "stream",
     "text": [
      "+--------------------+------------+--------------+----------------+---------+--------------------+\n",
      "|            Donor_ID|  Donor_City|   Donor_State|Donor_Is_Teacher|Donor_Zip|             Address|\n",
      "+--------------------+------------+--------------+----------------+---------+--------------------+\n",
      "|00000ce845c00cbf0...|    Evanston|      Illinois|              No|      602|Evanston,Illinois...|\n",
      "|00002783bc5d10851...|  Appomattox|         other|              No|      245|Appomattox,other,245|\n",
      "|00002d44003ed46b0...|      Winton|    California|             Yes|      953|Winton,California...|\n",
      "|00002eb25d60a09c3...|Indianapolis|       Indiana|              No|      462|Indianapolis,Indi...|\n",
      "|0000300773fe015f8...|    Paterson|    New Jersey|              No|      075|Paterson,New Jers...|\n",
      "|00004c31ce07c2214...|        null|         other|              No|     null|               other|\n",
      "|00004e32a448b4832...|    Stamford|   Connecticut|              No|      069|Stamford,Connecti...|\n",
      "|00004fa20a986e60a...|   Green Bay|     Wisconsin|              No|      543|Green Bay,Wiscons...|\n",
      "|00005454366b6b914...|      Argyle|      New York|              No|      128| Argyle,New York,128|\n",
      "|0000584b8cdaeaa6b...|  Valparaiso|       Indiana|              No|      463|Valparaiso,Indian...|\n",
      "|00005f52c98eeaf92...|   Villanova|  Pennsylvania|              No|      190|Villanova,Pennsyl...|\n",
      "|00006084c3d92d904...|       Brick|    New Jersey|             Yes|      087|Brick,New Jersey,087|\n",
      "|00006c6b8c3225a54...|  Wilmington|      Delaware|              No|      198|Wilmington,Delawa...|\n",
      "|0000812bd5629117f...|    Pasadena|         Texas|              No|      775|  Pasadena,Texas,775|\n",
      "|0000889adf4cc958a...|Mohegan Lake|      New York|              No|      105|Mohegan Lake,New ...|\n",
      "|00008eec5aab22286...|    Old Fort|North Carolina|              No|      287|Old Fort,North Ca...|\n",
      "|0000954e7c49ebfbc...|      Quincy|      Illinois|              No|      623| Quincy,Illinois,623|\n",
      "|0000a1288b8ccdeaa...|        null|         other|              No|     null|               other|\n",
      "|0000a2175753bc165...|Grand Rapids|      Michigan|              No|      495|Grand Rapids,Mich...|\n",
      "|0000a3fd8b8a3d1a9...|   Lancaster|  Pennsylvania|              No|      176|Lancaster,Pennsyl...|\n",
      "+--------------------+------------+--------------+----------------+---------+--------------------+\n",
      "only showing top 20 rows\n",
      "\n"
     ]
    }
   ],
   "source": [
    "df_donors.withColumn(\"Address\",concat_ws(\",\",col(\"Donor_City\"),col(\"Donor_State\"),col(\"Donor_Zip\"))).show()"
   ]
  },
  {
   "cell_type": "markdown",
   "id": "98bba8d7-a049-43b2-99b0-593d2b9f5a5f",
   "metadata": {},
   "source": [
    "## 6 - Moteur SQL"
   ]
  },
  {
   "cell_type": "markdown",
   "id": "5621c458-6f8e-48d7-96e1-9f0d0e21d95b",
   "metadata": {},
   "source": [
    "#### Persister le dataset de départ comme une Temporary View\n",
    "Vous pouvez utliser la fcontion createOrReplaceTempView"
   ]
  },
  {
   "cell_type": "code",
   "execution_count": 83,
   "id": "71d65406-80eb-4d9c-8e78-b676ba9cb2aa",
   "metadata": {},
   "outputs": [],
   "source": [
    "df_donors.createOrReplaceTempView(\"df_donors\")"
   ]
  },
  {
   "cell_type": "markdown",
   "id": "dd1affb0-8e16-4306-b286-94e642a82b06",
   "metadata": {},
   "source": [
    "#### Comptez le nombre de professeurs ayant participé à la donation\n",
    "\n",
    "Vous pouvez utiliser la fonction count() et le langage SQL"
   ]
  },
  {
   "cell_type": "code",
   "execution_count": 85,
   "id": "f60bb2ca-4246-4587-9035-1de2384ac69d",
   "metadata": {},
   "outputs": [
    {
     "data": {
      "text/plain": [
       "104650"
      ]
     },
     "execution_count": 85,
     "metadata": {},
     "output_type": "execute_result"
    }
   ],
   "source": [
    "filtereddf_donors = spark.sql(\"\"\" select * from df_donors where Donor_Is_Teacher = 'Yes' \"\"\")\n",
    "filtereddf_donors.count()\n",
    "\n",
    "\n",
    "\n",
    "\n",
    "\n"
   ]
  },
  {
   "cell_type": "markdown",
   "id": "acebc536-0504-4ab2-aae6-856f31f996af",
   "metadata": {},
   "source": [
    "utiliser juste 10% du dataset c'est très grand complet pour des jointures pour votre petite machine... avec la method `sample`"
   ]
  },
  {
   "cell_type": "code",
   "execution_count": 86,
   "id": "2363f5c1-c9d6-4230-b143-ea1e27d9065e",
   "metadata": {},
   "outputs": [],
   "source": [
    "df_donors_e = df_donors.sample(fraction=0.1, seed=3)"
   ]
  },
  {
   "cell_type": "markdown",
   "id": "32e29ed3-1664-4db1-92b1-adf77e562573",
   "metadata": {},
   "source": [
    "#### Afficher que les id des donateurs qui habite à California"
   ]
  },
  {
   "cell_type": "markdown",
   "id": "1474a64a",
   "metadata": {},
   "source": [
    "Vous pouvez utiliser le langage SQL qu'on vu dans le TP 5 suivant select col_x from donors where col_y =\"California"
   ]
  },
  {
   "cell_type": "code",
   "execution_count": 87,
   "id": "6cf60b3b",
   "metadata": {},
   "outputs": [
    {
     "name": "stdout",
     "output_type": "stream",
     "text": [
      "+--------------------+\n",
      "|            Donor_ID|\n",
      "+--------------------+\n",
      "|00002d44003ed46b0...|\n",
      "|00010615b56ff057f...|\n",
      "|000177bef7ed7b7d1...|\n",
      "|00017bad30d4b5d99...|\n",
      "|000181f354f1cba54...|\n",
      "|0001abd0c3f256bcd...|\n",
      "|0001bde8e87c867f3...|\n",
      "|0002128c613edd04b...|\n",
      "|00031a7e84cb620d9...|\n",
      "|00032349e9b32f61f...|\n",
      "|0003748b6011978a1...|\n",
      "|00038313e9d8b0d93...|\n",
      "|00040a049ad9f348f...|\n",
      "|00041fc8b829a8135...|\n",
      "|0004265c44e425d71...|\n",
      "|0004298ea9ff1bf0d...|\n",
      "|00047ac546738c937...|\n",
      "|00049338d2a420cd9...|\n",
      "|0004be01ccfd90c20...|\n",
      "|0004ceb1d06fd98f0...|\n",
      "+--------------------+\n",
      "only showing top 20 rows\n",
      "\n"
     ]
    }
   ],
   "source": [
    "Carlifornia_residents = spark.sql(\"\"\" select Donor_ID from df_donors where  Donor_State = 'California' \"\"\")\n",
    "Carlifornia_residents.show()"
   ]
  },
  {
   "cell_type": "markdown",
   "id": "10516fb2-314d-420f-bc76-5c6a259fffa9",
   "metadata": {},
   "source": [
    "#### Ingestion des données et publication en temporary view du fichier Donations.CSV"
   ]
  },
  {
   "cell_type": "code",
   "execution_count": 88,
   "id": "32b0aa09-d58b-4c0b-b180-4679adf6ee2f",
   "metadata": {},
   "outputs": [],
   "source": [
    "df_donations = load_dataframe('Donations.csv')"
   ]
  },
  {
   "cell_type": "code",
   "execution_count": 89,
   "id": "0e5792e0",
   "metadata": {},
   "outputs": [],
   "source": [
    "df_donations.createOrReplaceTempView(\"df_donations\")"
   ]
  },
  {
   "cell_type": "markdown",
   "id": "ac679bb0-f9ce-47e9-8017-76c7decab8d4",
   "metadata": {},
   "source": [
    "#### Afficher le DF"
   ]
  },
  {
   "cell_type": "code",
   "execution_count": 90,
   "id": "7b5eb96f-9d76-4a70-9adb-b3f2a613a7b8",
   "metadata": {},
   "outputs": [
    {
     "name": "stdout",
     "output_type": "stream",
     "text": [
      "+--------------------+--------------------+--------------------+-----------------------------------+---------------+-------------------+----------------------+\n",
      "|          Project ID|         Donation_ID|            Donor_ID|Donation_Included_Optional_Donation|Donation_Amount|Donor_Cart Sequence|Donation_Received_Date|\n",
      "+--------------------+--------------------+--------------------+-----------------------------------+---------------+-------------------+----------------------+\n",
      "|000009891526c0ade...|68872912085866622...|1f4b5b6e68445c6c4...|                                 No|         178.37|                 11|   2016-08-23 13:15:57|\n",
      "|000009891526c0ade...|dcf1071da3aa3561f...|4aaab6d244bf35996...|                                Yes|           25.0|                  2|   2016-06-06 20:05:23|\n",
      "|000009891526c0ade...|18a234b9d1e538c43...|0b0765dc9c759adc4...|                                Yes|           20.0|                  3|   2016-06-06 14:08:46|\n",
      "|000009891526c0ade...|38d2744bf9138b0b5...|377944ad61f72d800...|                                Yes|           25.0|                  1|   2016-05-15 10:23:04|\n",
      "|000009891526c0ade...|5a032791e31167a70...|6d5b22d39e68c6560...|                                Yes|           25.0|                  2|   2016-05-17 01:23:38|\n",
      "|000009891526c0ade...|8cea27f0cc03f41f6...|896c75c9b8d9a91c7...|                                Yes|           15.0|                  1|   2016-06-04 17:58:55|\n",
      "|00000ce845c00cbf0...|39af862cb04e4f938...|8a1875762c85932ff...|                                Yes|           50.0|                  1|   2013-02-27 09:07:51|\n",
      "|00000ce845c00cbf0...|c47f78571f62bcf10...|a3f070e439d52de72...|                                Yes|           50.0|                  2|   2013-02-27 09:53:12|\n",
      "|00000ce845c00cbf0...|19351e1d9ae0bccab...|bd323208dc78b1c74...|                                Yes|          200.0|                  2|   2013-02-17 21:36:24|\n",
      "|00000ce845c00cbf0...|d5364b1bb3b145948...|6dd6113f89f2766d3...|                                Yes|           10.0|                 44|   2013-02-27 10:32:22|\n",
      "|00000ce845c00cbf0...|84d4bd0c34c8c28f9...|391f14831940fc7bc...|                                Yes|          100.0|                  1|   2013-02-27 09:55:18|\n",
      "|00000ce845c00cbf0...|987eecef69373f0d7...|531ed26f1a5052823...|                                Yes|           25.0|                  1|   2013-02-27 09:57:57|\n",
      "|00000ce845c00cbf0...|72f8a2bf2a996b287...|499496888e927737a...|                                Yes|           50.0|                  1|   2013-02-27 10:56:48|\n",
      "|00002d44003ed46b0...|3dc5237cf215a2bdc...|3fa001f7a31563bb2...|                                Yes|           25.0|                  1|   2017-06-20 22:45:41|\n",
      "|00002d44003ed46b0...|3fb12c4ea45461531...|c77b27c9837573aae...|                                Yes|           20.0|                  1|   2017-07-05 12:19:02|\n",
      "|00002d44003ed46b0...|1abb69e9f91e80a4c...|43ca9835ccb5c7c24...|                                Yes|          100.0|                  2|   2017-06-28 22:56:05|\n",
      "|00002d44003ed46b0...|3f878f6ea8afe42b2...|6243c0acf1dc9a4d7...|                                Yes|           25.0|                  1|   2017-06-29 19:49:13|\n",
      "|00002d44003ed46b0...|7b28925a3c4c768da...|3fa001f7a31563bb2...|                                 No|         117.92|                  3|   2017-07-31 08:48:01|\n",
      "|00002d44003ed46b0...|aee61d191d3dcaf58...|3fa001f7a31563bb2...|                                 No|          250.0|                  2|   2017-07-30 23:16:53|\n",
      "|00002d44003ed46b0...|c40e75f11f570cd59...|344ad0a72366a27bd...|                                Yes|           10.0|                  9|   2017-07-24 08:40:35|\n",
      "+--------------------+--------------------+--------------------+-----------------------------------+---------------+-------------------+----------------------+\n",
      "only showing top 20 rows\n",
      "\n"
     ]
    }
   ],
   "source": [
    "df_donations.count()\n",
    "df_donations.show()"
   ]
  },
  {
   "cell_type": "markdown",
   "id": "126a65d6",
   "metadata": {},
   "source": [
    "#### Calculer le montant minimum, le montant maximum, le montant moyen en arrondissant à l'unité après la virgule de la colonne Donation_Amount\n",
    "pour l'ensemble Donations \n",
    "\n",
    "Utiliser les alias \"maxMontant\", \"minMontant\", \"avgMontant\". et la colonne \"Donation_Amount\"\n",
    "\n",
    "Pour rappel en SQL, un alias ressemble à ça : \"as maxMontant\"."
   ]
  },
  {
   "cell_type": "code",
   "execution_count": 91,
   "id": "7760d774",
   "metadata": {},
   "outputs": [
    {
     "name": "stdout",
     "output_type": "stream",
     "text": [
      "+---------------+----------+----------+----------+\n",
      "|Donation_Amount|maxMontant|minMontant|avgMontant|\n",
      "+---------------+----------+----------+----------+\n",
      "|           0.02|      0.02|      0.02|       0.0|\n",
      "|           0.07|      0.07|      0.07|       0.0|\n",
      "|           0.11|      0.11|      0.11|       0.0|\n",
      "|           0.14|      0.14|      0.14|       0.0|\n",
      "|           0.15|      0.15|      0.15|       0.0|\n",
      "|           0.16|      0.16|      0.16|       0.0|\n",
      "|            0.2|       0.2|       0.2|       0.0|\n",
      "|           0.21|      0.21|      0.21|       0.0|\n",
      "|           0.22|      0.22|      0.22|       0.0|\n",
      "|           0.31|      0.31|      0.31|       0.0|\n",
      "|           0.32|      0.32|      0.32|       0.0|\n",
      "|           0.33|      0.33|      0.33|       0.0|\n",
      "|           0.35|      0.35|      0.35|       0.0|\n",
      "|           0.38|      0.38|      0.38|       0.0|\n",
      "|           0.39|      0.39|      0.39|       0.0|\n",
      "|           0.42|      0.42|      0.42|       0.0|\n",
      "|           0.45|      0.45|      0.45|       0.0|\n",
      "|           0.49|      0.49|      0.49|       0.0|\n",
      "|            0.5|       0.5|       0.5|       1.0|\n",
      "|           0.53|      0.53|      0.53|       1.0|\n",
      "+---------------+----------+----------+----------+\n",
      "only showing top 20 rows\n",
      "\n"
     ]
    }
   ],
   "source": [
    "spark.sql(\"\"\"\n",
    "select Donation_Amount, max(Donation_Amount) as maxMontant, min(Donation_Amount) as minMontant, round(avg(Donation_Amount)) as avgMontant\n",
    "from df_donations GROUP BY Donation_Amount\n",
    "\"\"\").show()"
   ]
  },
  {
   "cell_type": "markdown",
   "id": "84b958dd",
   "metadata": {},
   "source": [
    "utiliser juste 10% du dataset c'est très grand complet pour des jointures... avec la method `sample`"
   ]
  },
  {
   "cell_type": "code",
   "execution_count": 92,
   "id": "3166053a-eaf4-4bbb-a17f-7ccf40e30049",
   "metadata": {},
   "outputs": [],
   "source": [
    "df_donations_e = df_donations.sample(fraction=0.1, seed=3)"
   ]
  },
  {
   "cell_type": "markdown",
   "id": "333d4215-9ddd-4f3b-839f-4065e07db743",
   "metadata": {
    "tags": []
   },
   "source": [
    "#### Faites une jointure Entre le data set des donneurs Donors, et le dataset des Donations Donations\n",
    "\n",
    "Indication : utilisez \"inner join\" de langage spark.sql"
   ]
  },
  {
   "cell_type": "code",
   "execution_count": 94,
   "id": "8b6b613a-67a7-437e-aa73-8195534b9199",
   "metadata": {},
   "outputs": [
    {
     "data": {
      "text/plain": [
       "DataFrame[Donor_ID: string, Donor_City: string, Donor_State: string, Donor_Is_Teacher: string, Donor_Zip: string, Project ID: string, Donation_ID: string, Donor_ID: string, Donation_Included_Optional_Donation: string, Donation_Amount: string, Donor_Cart Sequence: string, Donation_Received_Date: string]"
      ]
     },
     "execution_count": 94,
     "metadata": {},
     "output_type": "execute_result"
    }
   ],
   "source": [
    "spark.sql(\"\"\" select * from df_donors inner join df_donations on \n",
    "df_donors.Donor_ID = df_donations.Donor_ID \"\"\" )\n"
   ]
  },
  {
   "cell_type": "markdown",
   "id": "d3be07f0-1a82-47e9-8767-613d07a9e487",
   "metadata": {},
   "source": [
    "#### Calculez la somme de l'argent donnée par Les Professeurs (Donor Is Teacher=Yes) et les non professeurs utilisant seulement SQL\n",
    "\n",
    "Indication : ('select sum(dt.col4) as amountProf from donations dt inner join donors dr on dt.col2 = dr.col0 and dr.col3 = \"Yes\" ')"
   ]
  },
  {
   "cell_type": "code",
   "execution_count": 95,
   "id": "c48353b2-2e0a-4f8c-9afa-816718aade09",
   "metadata": {},
   "outputs": [
    {
     "name": "stdout",
     "output_type": "stream",
     "text": [
      "+-----------------+\n",
      "|       amountProf|\n",
      "+-----------------+\n",
      "|6765183.590000001|\n",
      "+-----------------+\n",
      "\n"
     ]
    }
   ],
   "source": [
    "spark.sql(\"\"\"select sum(df_donations.Donation_Amount)\n",
    " as amountProf from df_donations inner join df_donors on df_donations.Donor_ID\n",
    " = df_donors.Donor_ID and df_donors.Donor_Is_Teacher\n",
    " = \"Yes\" \"\"\").show()"
   ]
  }
 ],
 "metadata": {
  "kernelspec": {
   "display_name": "Python 3 (ipykernel)",
   "language": "python",
   "name": "python3"
  },
  "language_info": {
   "codemirror_mode": {
    "name": "ipython",
    "version": 3
   },
   "file_extension": ".py",
   "mimetype": "text/x-python",
   "name": "python",
   "nbconvert_exporter": "python",
   "pygments_lexer": "ipython3",
   "version": "3.9.12"
  }
 },
 "nbformat": 4,
 "nbformat_minor": 5
}
